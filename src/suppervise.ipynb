{
 "cells": [
  {
   "cell_type": "code",
   "execution_count": null,
   "metadata": {},
   "outputs": [],
   "source": [
    "import pandas as pd\n",
    "import matplotlib\n",
    "import matplotlib.pyplot as plt\n",
    "import numpy as np\n",
    "from sklearn.impute import SimpleImputer\n",
    "import clean_dataset\n",
    "# Turn interactive plotting off\n",
    "plt.ioff()\n",
    "\n",
    "# read input text and put data inside a data frame\n",
    "clean_dataset.clean_suppervised()\n",
    "data = pd.read_csv(\"../data/base_prospect_suppervised.csv\",encoding=\"ISO-8859-1\")\n",
    "# prospect =  pd.DataFrame(prospect)\n",
    "data['risque'] = data['risque'].astype(object)\n",
    "# data['ca_total_FL'] = data['ca_total_FL'].astype(object)\n",
    "# data['effectif'] = data['effectif'].astype(object)\n",
    "\n",
    "y = data['rdv']\n",
    "\n",
    "data.head\n",
    "data.dtypes"
   ]
  },
  {
   "cell_type": "code",
   "execution_count": null,
   "metadata": {},
   "outputs": [],
   "source": [
    "from sklearn.preprocessing import OneHotEncoder\n",
    "encoder = OneHotEncoder(handle_unknown=\"ignore\")\n",
    "\n",
    "feature_names  = data.columns.values[2:-1]\n",
    "X = data[feature_names]\n",
    "#La liste des caisses régionales\n",
    "lst_caisse=data['code_cr'].unique()\n",
    "\n",
    "X_cat = X.select_dtypes(exclude=['float64','int64'])\n",
    "\n",
    "# Disjonction with OneHotEncoder\n",
    "# encoder.fit(X_cat)\n",
    "# X_cat = encoder.transform(X_cat).toarray()\n",
    "\n",
    "X_cat = pd.get_dummies(X_cat)\n",
    "cat_columns = X_cat.columns\n",
    "cat_columns\n",
    "\n",
    "# X.dtypes"
   ]
  },
  {
   "cell_type": "code",
   "execution_count": 38,
   "metadata": {},
   "outputs": [],
   "source": [
    "\n",
    "from sklearn import tree\n",
    "from sklearn.ensemble import RandomForestClassifier\n",
    "from sklearn.model_selection import StratifiedKFold, cross_val_score\n",
    "from sklearn.model_selection import cross_val_predict\n",
    "from sklearn import metrics\n",
    "\n",
    "from sklearn.preprocessing import StandardScaler\n",
    "\n",
    "\n",
    "from sklearn.impute import SimpleImputer\n",
    "\n",
    "rdforest = RandomForestClassifier(class_weight='balanced',random_state=42)#,max_depth=5\n",
    "\n",
    "lst_classif = [rdforest]\n",
    "lst_classif_names = ['Random Forest']\n",
    "\n",
    "def accuracy_score(lst_classif,lst_classif_names,X,y):\n",
    "   \n",
    "\n",
    "    for clf,name_clf in zip(lst_classif,lst_classif_names):\n",
    "        skf = StratifiedKFold(n_splits=5,shuffle=True)\n",
    "        scores = cross_val_score(clf, X, y, cv=skf)\n",
    "        print(\"Mean cross validation score of \"+name_clf+\" classifier on cross-validation: %0.2f (+/- %0.2f)\" % (scores.mean(), scores.std() * 2))\n",
    "\n",
    "def confusion_matrix(lst_classif,lst_classif_names,X,y):\n",
    "    for clf,name_clf in zip(lst_classif,lst_classif_names):\n",
    "        predicted = cross_val_predict(clf, X, y, cv=5) \n",
    "        print(\"Accuracy of \"+name_clf+\" classifier on cross-validation: %0.2f\" % metrics.accuracy_score(y, predicted))\n",
    "        print(metrics.confusion_matrix(y, predicted))"
   ]
  },
  {
   "cell_type": "code",
   "execution_count": 39,
   "metadata": {},
   "outputs": [
    {
     "ename": "AttributeError",
     "evalue": "'RandomForestClassifier' object has no attribute 'cost_complexity_pruning_path'",
     "output_type": "error",
     "traceback": [
      "\u001b[0;31m---------------------------------------------------------------------------\u001b[0m",
      "\u001b[0;31mAttributeError\u001b[0m                            Traceback (most recent call last)",
      "Cell \u001b[0;32mIn[39], line 15\u001b[0m\n\u001b[1;32m      9\u001b[0m X_num_norm \u001b[39m=\u001b[39m scaler\u001b[39m.\u001b[39mfit_transform(X_num)\n\u001b[1;32m     12\u001b[0m \u001b[39m# accuracy_score(lst_classif,lst_classif_names, X_num_norm, y)\u001b[39;00m\n\u001b[1;32m     13\u001b[0m \u001b[39m# confusion_matrix(lst_classif,lst_classif_names, X_num_norm, y)\u001b[39;00m\n\u001b[0;32m---> 15\u001b[0m path \u001b[39m=\u001b[39m rdforest\u001b[39m.\u001b[39;49mcost_complexity_pruning_path(X_num_norm, y)\n\u001b[1;32m     16\u001b[0m ccp_alphas, impurities \u001b[39m=\u001b[39m path\u001b[39m.\u001b[39mccp_alphas, path\u001b[39m.\u001b[39mimpurities\n\u001b[1;32m     18\u001b[0m \u001b[39mprint\u001b[39m(ccp_alphas,impurities)\n",
      "\u001b[0;31mAttributeError\u001b[0m: 'RandomForestClassifier' object has no attribute 'cost_complexity_pruning_path'"
     ]
    }
   ],
   "source": [
    "from sklearn.preprocessing import StandardScaler\n",
    "# 3 - Cluster\n",
    "# Normalize data\n",
    "scaler = StandardScaler()\n",
    "# TODO\n",
    "X_num = X.select_dtypes(include=['float64','int64']).drop(columns=['chgt_dir'])\n",
    "num_columns = X_num.columns\n",
    "\n",
    "X_num_norm = scaler.fit_transform(X_num)\n",
    "\n",
    "\n",
    "accuracy_score(lst_classif,lst_classif_names, X_num_norm, y)\n",
    "confusion_matrix(lst_classif,lst_classif_names, X_num_norm, y)\n",
    "\n"
   ]
  },
  {
   "cell_type": "code",
   "execution_count": null,
   "metadata": {},
   "outputs": [],
   "source": [
    "accuracy_score(lst_classif,lst_classif_names, X_cat.to_numpy(), y)\n",
    "confusion_matrix(lst_classif,lst_classif_names,X_cat.to_numpy(), y)"
   ]
  },
  {
   "cell_type": "code",
   "execution_count": null,
   "metadata": {},
   "outputs": [],
   "source": [
    "# columns_num_cat = pd.concat([X_num_norm, X_cat], axis=1).columns\n",
    "\n",
    "X_num_cat = pd.concat([pd.DataFrame(X_num_norm), X_cat], axis=1)\n",
    "accuracy_score(lst_classif,lst_classif_names, X_num_cat.to_numpy(), y)\n",
    "confusion_matrix(lst_classif,lst_classif_names,X_num_cat.to_numpy(), y)\n"
   ]
  },
  {
   "cell_type": "code",
   "execution_count": null,
   "metadata": {},
   "outputs": [],
   "source": [
    "from sklearn import tree\n",
    "\n",
    "class_names = list(map(str, data['rdv'].unique()))\n",
    "\n",
    "rdforest.fit(X_cat, y)\n",
    "\n",
    "\n",
    "# Plot decision tree for one of the trees in the forest\n",
    "plt.figure(figsize=(200,100))\n",
    "tree.plot_tree(rdforest.estimators_[0], feature_names=cat_columns, class_names=class_names, filled=True,fontsize=40)\n",
    "\n",
    "plt.savefig('fig/categorical_decision_tree')\n",
    "plt.close()\n",
    "\n"
   ]
  },
  {
   "cell_type": "code",
   "execution_count": null,
   "metadata": {},
   "outputs": [],
   "source": [
    "\n",
    "\n",
    "rdforest.fit(X_num, y)\n",
    "# Plot decision tree for one of the trees in the forest\n",
    "plt.figure(figsize=(200,100))\n",
    "tree.plot_tree(rdforest.estimators_[0], feature_names=num_columns, class_names=class_names, filled=True,fontsize=40)\n",
    "plt.savefig('fig/numerical_decision_tree')\n",
    "plt.close()\n"
   ]
  },
  {
   "cell_type": "code",
   "execution_count": null,
   "metadata": {},
   "outputs": [],
   "source": [
    "\n",
    "columns_num_cat = num_columns.tolist()\n",
    "columns_num_cat.extend(cat_columns.tolist())\n",
    "\n",
    "rdforest.fit(X_num_cat, y)\n",
    "# Plot decision tree for one of the trees in the forest\n",
    "plt.figure(figsize=(200,100))\n",
    "tree.plot_tree(rdforest.estimators_[0], feature_names=columns_num_cat, class_names=class_names, filled=True,fontsize=40)\n",
    "plt.savefig('fig/categorical_numerical_decision_tree')\n",
    "plt.close()\n"
   ]
  }
 ],
 "metadata": {
  "kernelspec": {
   "display_name": "base",
   "language": "python",
   "name": "python3"
  },
  "language_info": {
   "codemirror_mode": {
    "name": "ipython",
    "version": 3
   },
   "file_extension": ".py",
   "mimetype": "text/x-python",
   "name": "python",
   "nbconvert_exporter": "python",
   "pygments_lexer": "ipython3",
   "version": "3.9.12"
  },
  "orig_nbformat": 4,
  "vscode": {
   "interpreter": {
    "hash": "274cf1cd44d75c296ad468b847379e30b7fbc6e3132e4e5e37d60078b9b24cbb"
   }
  }
 },
 "nbformat": 4,
 "nbformat_minor": 2
}
