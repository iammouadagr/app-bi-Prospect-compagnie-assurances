{
 "cells": [
  {
   "cell_type": "code",
   "execution_count": null,
   "metadata": {},
   "outputs": [],
   "source": [
    "import pandas as pd\n",
    "import matplotlib\n",
    "import matplotlib.pyplot as plt\n",
    "import numpy as np\n",
    "from sklearn.impute import SimpleImputer\n",
    "import clean_dataset\n",
    "# Turn interactive plotting off\n",
    "plt.ioff()\n",
    "\n",
    "# read input text and put data inside a data frame\n",
    "clean_dataset.clean_suppervised()\n",
    "data = pd.read_csv(\"../data/base_prospect_suppervised.csv\",encoding=\"ISO-8859-1\")\n",
    "# prospect =  pd.DataFrame(prospect)\n",
    "data['risque'] = data['risque'].astype(object)\n",
    "# data['ca_total_FL'] = data['ca_total_FL'].astype(object)\n",
    "# data['effectif'] = data['effectif'].astype(object)\n",
    "\n",
    "y = data['rdv']\n",
    "\n",
    "data.head\n",
    "data.dtypes"
   ]
  },
  {
   "cell_type": "code",
   "execution_count": null,
   "metadata": {},
   "outputs": [],
   "source": [
    "from sklearn.preprocessing import OneHotEncoder\n",
    "encoder = OneHotEncoder(handle_unknown=\"ignore\")\n",
    "\n",
    "feature_names  = data.columns.values[2:-1]\n",
    "X = data[feature_names]\n",
    "#La liste des caisses régionales\n",
    "lst_caisse=data['code_cr'].unique()\n",
    "\n",
    "X_cat = X.select_dtypes(exclude=['float64','int64'])\n",
    "\n",
    "# Disjonction with OneHotEncoder\n",
    "# encoder.fit(X_cat)\n",
    "# X_cat = encoder.transform(X_cat).toarray()\n",
    "\n",
    "X_cat = pd.get_dummies(X_cat)\n",
    "cat_columns = X_cat.columns\n",
    "cat_columns\n",
    "\n",
    "# X.dtypes"
   ]
  },
  {
   "cell_type": "code",
   "execution_count": null,
   "metadata": {},
   "outputs": [],
   "source": [
    "from sklearn.preprocessing import StandardScaler\n",
    "# Normalize data\n",
    "scaler = StandardScaler()\n",
    "X_num = X.select_dtypes(include=['float64','int64']).drop(columns=['chgt_dir'])\n",
    "num_columns = X_num.columns\n",
    "X_num_norm = scaler.fit_transform(X_num)"
   ]
  },
  {
   "cell_type": "code",
   "execution_count": null,
   "metadata": {},
   "outputs": [],
   "source": [
    "# num_cat_columns = pd.concat([X_num_norm, X_cat], axis=1).columns\n",
    "X_num_cat = pd.concat([pd.DataFrame(X_num_norm), X_cat], axis=1)\n",
    "num_cat_columns = num_columns.tolist()\n",
    "num_cat_columns.extend(cat_columns.tolist())"
   ]
  },
  {
   "cell_type": "code",
   "execution_count": null,
   "metadata": {},
   "outputs": [],
   "source": [
    "\n",
    "from sklearn import tree\n",
    "from sklearn.ensemble import RandomForestClassifier\n",
    "from sklearn.model_selection import StratifiedKFold, cross_val_score, cross_validate\n",
    "\n",
    "from sklearn.model_selection import cross_val_predict\n",
    "from sklearn import metrics\n",
    "from sklearn.model_selection import GridSearchCV\n",
    "\n",
    "from sklearn.metrics import confusion_matrix, ConfusionMatrixDisplay\n",
    "\n",
    "from sklearn.preprocessing import StandardScaler\n",
    "\n",
    "from sklearn.metrics import DetCurveDisplay, RocCurveDisplay\n",
    "\n",
    "\n",
    "\n",
    "from sklearn.impute import SimpleImputer\n",
    "# create an instance of the RandomForestClassifier class\n",
    "rdforest = RandomForestClassifier(class_weight='balanced',random_state=42,max_depth=6,min_samples_leaf=2, min_samples_split=10, n_estimators=50) #min_samples_leaf=2, min_samples_split=10, n_estimators=50\n",
    "# define a grid of hyperparameters to search over\n",
    "param_grid = {\n",
    "    'n_estimators': [50, 100, 200],\n",
    "    'max_depth': [5, 10, None],\n",
    "    'min_samples_split': [2, 5, 10],\n",
    "    'min_samples_leaf': [1, 2, 4]\n",
    "}\n",
    "\n",
    "lst_classif = [rdforest]\n",
    "lst_classif_names = ['Random Forest']\n",
    "class_names = list(map(str, data['rdv'].unique()))\n",
    "\n",
    "\n",
    "def accuracy_score(X,y):\n",
    "    for clf,name_clf in zip(lst_classif,lst_classif_names):\n",
    "        # grid_search = GridSearchCV(clf, param_grid, cv=5, n_jobs=-1)\n",
    "        # grid_search.fit(X, y)\n",
    "\n",
    "        # # print the best hyperparameters and the corresponding validation score\n",
    "        # print(\"Best Hyperparameters:\", grid_search.best_params_)\n",
    "        # print(\"Validation Score:\", grid_search.best_score_)\n",
    "        skf = StratifiedKFold(n_splits=5,shuffle=True)\n",
    "        scores = cross_val_score(clf, X, y, cv=skf)\n",
    "        pass\n",
    "\n",
    "\n",
    "def confusion_matrix(X,y, datatype):\n",
    "    for clf,name_clf in zip(lst_classif,lst_classif_names):\n",
    "        predicted = cross_val_predict(clf, X, y, cv=5) \n",
    "        print(\"Accuracy of \"+name_clf+\" classifier on cross-validation: %0.2f\" % metrics.accuracy_score(y, predicted))\n",
    "        cm = metrics.confusion_matrix(y, predicted)\n",
    "        disp = ConfusionMatrixDisplay(confusion_matrix=cm,display_labels=class_names)\n",
    "        disp.plot()\n",
    "        plt.savefig('fig/confusion_matrix_{}'.format(datatype))\n",
    "        plt.close()\n",
    "    pass"
   ]
  },
  {
   "cell_type": "code",
   "execution_count": null,
   "metadata": {},
   "outputs": [],
   "source": [
    "def important_features(X,columns,type_features):\n",
    "    rdforest.fit(X, y)\n",
    "\n",
    "    importances = rdforest.feature_importances_\n",
    "\n",
    "    forest_importances = pd.Series(importances, index=columns)\n",
    "    std = np.std([tree.feature_importances_ for tree in rdforest.estimators_], axis=0)\n",
    "\n",
    "\n",
    "    fig, ax = plt.subplots()\n",
    "    fig.set_size_inches(6,8)\n",
    "    \n",
    "    forest_importances.plot.bar(yerr=std, ax=ax)\n",
    "    ax.set_title(\"Feature importances using MDI\")\n",
    "    ax.set_ylabel(\"Mean decrease in impurity\")\n",
    "    fig.tight_layout()\n",
    "    plt.savefig('fig/important_features_{}'.format(type_features))\n",
    "    plt.show()\n",
    "    plt.close()"
   ]
  },
  {
   "cell_type": "code",
   "execution_count": null,
   "metadata": {},
   "outputs": [],
   "source": [
    "from sklearn import tree\n",
    "# Plot decision tree for one of the trees in the forest\n",
    "def plot_decision_tree(X,y,columns,type_tree):\n",
    "    rdforest.fit(X, y)\n",
    "    plt.figure(figsize=(20,10))\n",
    "    tree.plot_tree(rdforest.estimators_[0], feature_names=columns, class_names=class_names, filled=True,fontsize=9)\n",
    "    plt.subplots_adjust(hspace=3)\n",
    "    plt.savefig('fig/decision_tree_{}'.format(type_tree))\n",
    "    plt.close()\n",
    "\n",
    "    #Large plotting for interpretation\n",
    "    plt.figure(figsize=(100,10))\n",
    "    tree.plot_tree(rdforest.estimators_[0], feature_names=columns, class_names=class_names, filled=True,fontsize=11)\n",
    "    plt.subplots_adjust(hspace=3)\n",
    "    plt.savefig('fig/decision_tree_{}_large'.format(type_tree))\n",
    "    plt.close()"
   ]
  },
  {
   "cell_type": "code",
   "execution_count": null,
   "metadata": {},
   "outputs": [],
   "source": [
    "# accuracy_score(X_num_cat.to_numpy(), y)\n",
    "# accuracy_score( X_num_norm, y)\n",
    "# accuracy_score( X_cat.to_numpy(), y)"
   ]
  },
  {
   "cell_type": "code",
   "execution_count": null,
   "metadata": {},
   "outputs": [],
   "source": [
    "# confusion_matrix(X_num_norm, y,\"num\")\n",
    "# confusion_matrix(X_cat.to_numpy(), y,\"cat\")\n",
    "# confusion_matrix(X_num_cat.to_numpy(), y, \"num_cat\")"
   ]
  },
  {
   "cell_type": "code",
   "execution_count": null,
   "metadata": {},
   "outputs": [],
   "source": [
    "\n",
    "\n",
    "\n",
    "# plot_decision_tree(X_cat, y, cat_columns , \"categorical\")\n",
    "# plot_decision_tree(X_num_norm, y, num_columns,\"numerical\")\n",
    "# plot_decision_tree(X_num_cat, y, num_cat_columns,\"categorical_numerical\")"
   ]
  },
  {
   "cell_type": "code",
   "execution_count": null,
   "metadata": {},
   "outputs": [],
   "source": [
    "\n",
    "# important_features(X_num_cat,num_cat_columns,\"num_cat\")\n",
    "# important_features(X_cat,cat_columns,\"cat\")\n",
    "# important_features(X_num_norm,num_columns,\"num\")"
   ]
  },
  {
   "cell_type": "code",
   "execution_count": null,
   "metadata": {},
   "outputs": [],
   "source": [
    "X_lists = [X_num_norm, X_cat.to_numpy(), X_num_cat.to_numpy()]\n",
    "data_columns = [num_columns,cat_columns, num_cat_columns]\n",
    "data_type_label = [\"numerical\",\"categorical\", \"categorical_numerical\"]\n",
    "zipped_data = list(zip(X_lists, data_columns, data_type_label))\n",
    "for X_data, columns, label in zipped_data:\n",
    "    accuracy_score(X_data, y)\n",
    "    confusion_matrix(X_data, y,label)\n",
    "    plot_decision_tree(X_data, y, columns , label)\n",
    "    important_features(X_data,columns,label)"
   ]
  }
 ],
 "metadata": {
  "kernelspec": {
   "display_name": "base",
   "language": "python",
   "name": "python3"
  },
  "language_info": {
   "codemirror_mode": {
    "name": "ipython",
    "version": 3
   },
   "file_extension": ".py",
   "mimetype": "text/x-python",
   "name": "python",
   "nbconvert_exporter": "python",
   "pygments_lexer": "ipython3",
   "version": "3.9.12"
  },
  "orig_nbformat": 4,
  "vscode": {
   "interpreter": {
    "hash": "274cf1cd44d75c296ad468b847379e30b7fbc6e3132e4e5e37d60078b9b24cbb"
   }
  }
 },
 "nbformat": 4,
 "nbformat_minor": 2
}
