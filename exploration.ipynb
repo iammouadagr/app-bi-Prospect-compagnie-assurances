{
 "cells": [
  {
   "cell_type": "code",
   "execution_count": 2,
   "metadata": {
    "collapsed": true
   },
   "outputs": [],
   "source": [
    "import pandas as pd\n",
    "import matplotlib\n",
    "import matplotlib.pyplot as plt\n",
    "import numpy as np"
   ]
  },
  {
   "cell_type": "code",
   "execution_count": 3,
   "outputs": [
    {
     "data": {
      "text/plain": "       code_cr  dept  effectif  ca_total_FL  ca_export_FK risque  endettement  \\\n0         GPVL    80        28         3362           0.0  11-13     0.646695   \n1         GPVL    80        15         4607           0.0     14     0.400985   \n2         GPVL    80        19           21           0.0  11-13     0.972222   \n3         GPVL    80        11         1065           0.0   8-10     0.485520   \n4         GPVL    80        17         2576         228.0  11-13     0.612903   \n...        ...   ...       ...          ...           ...    ...          ...   \n108571     GAM    13        16         2141           1.0     14     0.466483   \n108572     GCM    61        43         5442         352.0   8-10     0.841737   \n108573    GRAA    63       146        16264           1.0     14     0.101439   \n108574     GGE    21       203        71067       33556.0     14     0.518589   \n108575     GOC    64        22         2798           NaN   8-10     0.330940   \n\n        evo_benefice  ratio_benef  evo_effectif  evo_risque  age  \\\n0          -2.285714    -0.535396      0.217000         0.0   54   \n1           0.392857     1.693076      0.000000         0.0   52   \n2          -0.666667     4.761905      0.000000         0.0   52   \n3           0.729167    -1.220657     -0.083000        -1.0   51   \n4          -2.012270    -6.405280      0.000000        -1.0   51   \n...              ...          ...           ...         ...  ...   \n108571      4.341117     9.513534     -0.126244         0.0   15   \n108572      0.229162    -6.145799      0.027814         0.0    7   \n108573      0.834199     5.023770      0.027260         0.0   45   \n108574      2.682676    10.180021      0.000000         0.0   22   \n108575      0.169269     2.953684      0.240466         0.0   26   \n\n                         type_com  \\\n0                     Pôle urbain   \n1                     Pôle urbain   \n2       Espace à dominante rurale   \n3                     Pôle urbain   \n4                     Pôle urbain   \n...                           ...   \n108571  Espace à dominante rurale   \n108572                Pôle urbain   \n108573                Pôle urbain   \n108574  Espace à dominante rurale   \n108575  Espace à dominante rurale   \n\n                                                 activite        actionnaire  \\\n0          Commerce de gros et intermédiaires du commerce  personne physique   \n1          Commerce de gros et intermédiaires du commerce            famille   \n2       Industrie manufacturière : Métallurgie. travai...  pas d'actionnaire   \n3                        Industrie alimentaire. bois.cuir         entreprise   \n4       Industrie manufacturière : Métallurgie. travai...  pas d'actionnaire   \n...                                                   ...                ...   \n108571  Santé et action sociale. services sociaux. édu...         entreprise   \n108572  Industrie manufacturière : Métallurgie. travai...         entreprise   \n108573                              Construction : Autres         entreprise   \n108574  Industrie manufacturière : Métallurgie. travai...         entreprise   \n108575  Construction : Travaux divers. Menuiserie. Mir...  pas d'actionnaire   \n\n                       forme_jur_simpl  chgt_dir  rdv  \n0                      Societe anonyme       NaN    0  \n1       Société par actions simplifiée       NaN    0  \n2                                 SARL       0.0    0  \n3       Société par actions simplifiée       0.0    0  \n4       Société par actions simplifiée       NaN    0  \n...                                ...       ...  ...  \n108571  Société par actions simplifiée       0.0    0  \n108572  Société par actions simplifiée       NaN    0  \n108573  Société par actions simplifiée       NaN    0  \n108574  Société par actions simplifiée       NaN    0  \n108575             Affaire personnelle       1.0    0  \n\n[108576 rows x 18 columns]",
      "text/html": "<div>\n<style scoped>\n    .dataframe tbody tr th:only-of-type {\n        vertical-align: middle;\n    }\n\n    .dataframe tbody tr th {\n        vertical-align: top;\n    }\n\n    .dataframe thead th {\n        text-align: right;\n    }\n</style>\n<table border=\"1\" class=\"dataframe\">\n  <thead>\n    <tr style=\"text-align: right;\">\n      <th></th>\n      <th>code_cr</th>\n      <th>dept</th>\n      <th>effectif</th>\n      <th>ca_total_FL</th>\n      <th>ca_export_FK</th>\n      <th>risque</th>\n      <th>endettement</th>\n      <th>evo_benefice</th>\n      <th>ratio_benef</th>\n      <th>evo_effectif</th>\n      <th>evo_risque</th>\n      <th>age</th>\n      <th>type_com</th>\n      <th>activite</th>\n      <th>actionnaire</th>\n      <th>forme_jur_simpl</th>\n      <th>chgt_dir</th>\n      <th>rdv</th>\n    </tr>\n  </thead>\n  <tbody>\n    <tr>\n      <th>0</th>\n      <td>GPVL</td>\n      <td>80</td>\n      <td>28</td>\n      <td>3362</td>\n      <td>0.0</td>\n      <td>11-13</td>\n      <td>0.646695</td>\n      <td>-2.285714</td>\n      <td>-0.535396</td>\n      <td>0.217000</td>\n      <td>0.0</td>\n      <td>54</td>\n      <td>Pôle urbain</td>\n      <td>Commerce de gros et intermédiaires du commerce</td>\n      <td>personne physique</td>\n      <td>Societe anonyme</td>\n      <td>NaN</td>\n      <td>0</td>\n    </tr>\n    <tr>\n      <th>1</th>\n      <td>GPVL</td>\n      <td>80</td>\n      <td>15</td>\n      <td>4607</td>\n      <td>0.0</td>\n      <td>14</td>\n      <td>0.400985</td>\n      <td>0.392857</td>\n      <td>1.693076</td>\n      <td>0.000000</td>\n      <td>0.0</td>\n      <td>52</td>\n      <td>Pôle urbain</td>\n      <td>Commerce de gros et intermédiaires du commerce</td>\n      <td>famille</td>\n      <td>Société par actions simplifiée</td>\n      <td>NaN</td>\n      <td>0</td>\n    </tr>\n    <tr>\n      <th>2</th>\n      <td>GPVL</td>\n      <td>80</td>\n      <td>19</td>\n      <td>21</td>\n      <td>0.0</td>\n      <td>11-13</td>\n      <td>0.972222</td>\n      <td>-0.666667</td>\n      <td>4.761905</td>\n      <td>0.000000</td>\n      <td>0.0</td>\n      <td>52</td>\n      <td>Espace à dominante rurale</td>\n      <td>Industrie manufacturière : Métallurgie. travai...</td>\n      <td>pas d'actionnaire</td>\n      <td>SARL</td>\n      <td>0.0</td>\n      <td>0</td>\n    </tr>\n    <tr>\n      <th>3</th>\n      <td>GPVL</td>\n      <td>80</td>\n      <td>11</td>\n      <td>1065</td>\n      <td>0.0</td>\n      <td>8-10</td>\n      <td>0.485520</td>\n      <td>0.729167</td>\n      <td>-1.220657</td>\n      <td>-0.083000</td>\n      <td>-1.0</td>\n      <td>51</td>\n      <td>Pôle urbain</td>\n      <td>Industrie alimentaire. bois.cuir</td>\n      <td>entreprise</td>\n      <td>Société par actions simplifiée</td>\n      <td>0.0</td>\n      <td>0</td>\n    </tr>\n    <tr>\n      <th>4</th>\n      <td>GPVL</td>\n      <td>80</td>\n      <td>17</td>\n      <td>2576</td>\n      <td>228.0</td>\n      <td>11-13</td>\n      <td>0.612903</td>\n      <td>-2.012270</td>\n      <td>-6.405280</td>\n      <td>0.000000</td>\n      <td>-1.0</td>\n      <td>51</td>\n      <td>Pôle urbain</td>\n      <td>Industrie manufacturière : Métallurgie. travai...</td>\n      <td>pas d'actionnaire</td>\n      <td>Société par actions simplifiée</td>\n      <td>NaN</td>\n      <td>0</td>\n    </tr>\n    <tr>\n      <th>...</th>\n      <td>...</td>\n      <td>...</td>\n      <td>...</td>\n      <td>...</td>\n      <td>...</td>\n      <td>...</td>\n      <td>...</td>\n      <td>...</td>\n      <td>...</td>\n      <td>...</td>\n      <td>...</td>\n      <td>...</td>\n      <td>...</td>\n      <td>...</td>\n      <td>...</td>\n      <td>...</td>\n      <td>...</td>\n      <td>...</td>\n    </tr>\n    <tr>\n      <th>108571</th>\n      <td>GAM</td>\n      <td>13</td>\n      <td>16</td>\n      <td>2141</td>\n      <td>1.0</td>\n      <td>14</td>\n      <td>0.466483</td>\n      <td>4.341117</td>\n      <td>9.513534</td>\n      <td>-0.126244</td>\n      <td>0.0</td>\n      <td>15</td>\n      <td>Espace à dominante rurale</td>\n      <td>Santé et action sociale. services sociaux. édu...</td>\n      <td>entreprise</td>\n      <td>Société par actions simplifiée</td>\n      <td>0.0</td>\n      <td>0</td>\n    </tr>\n    <tr>\n      <th>108572</th>\n      <td>GCM</td>\n      <td>61</td>\n      <td>43</td>\n      <td>5442</td>\n      <td>352.0</td>\n      <td>8-10</td>\n      <td>0.841737</td>\n      <td>0.229162</td>\n      <td>-6.145799</td>\n      <td>0.027814</td>\n      <td>0.0</td>\n      <td>7</td>\n      <td>Pôle urbain</td>\n      <td>Industrie manufacturière : Métallurgie. travai...</td>\n      <td>entreprise</td>\n      <td>Société par actions simplifiée</td>\n      <td>NaN</td>\n      <td>0</td>\n    </tr>\n    <tr>\n      <th>108573</th>\n      <td>GRAA</td>\n      <td>63</td>\n      <td>146</td>\n      <td>16264</td>\n      <td>1.0</td>\n      <td>14</td>\n      <td>0.101439</td>\n      <td>0.834199</td>\n      <td>5.023770</td>\n      <td>0.027260</td>\n      <td>0.0</td>\n      <td>45</td>\n      <td>Pôle urbain</td>\n      <td>Construction : Autres</td>\n      <td>entreprise</td>\n      <td>Société par actions simplifiée</td>\n      <td>NaN</td>\n      <td>0</td>\n    </tr>\n    <tr>\n      <th>108574</th>\n      <td>GGE</td>\n      <td>21</td>\n      <td>203</td>\n      <td>71067</td>\n      <td>33556.0</td>\n      <td>14</td>\n      <td>0.518589</td>\n      <td>2.682676</td>\n      <td>10.180021</td>\n      <td>0.000000</td>\n      <td>0.0</td>\n      <td>22</td>\n      <td>Espace à dominante rurale</td>\n      <td>Industrie manufacturière : Métallurgie. travai...</td>\n      <td>entreprise</td>\n      <td>Société par actions simplifiée</td>\n      <td>NaN</td>\n      <td>0</td>\n    </tr>\n    <tr>\n      <th>108575</th>\n      <td>GOC</td>\n      <td>64</td>\n      <td>22</td>\n      <td>2798</td>\n      <td>NaN</td>\n      <td>8-10</td>\n      <td>0.330940</td>\n      <td>0.169269</td>\n      <td>2.953684</td>\n      <td>0.240466</td>\n      <td>0.0</td>\n      <td>26</td>\n      <td>Espace à dominante rurale</td>\n      <td>Construction : Travaux divers. Menuiserie. Mir...</td>\n      <td>pas d'actionnaire</td>\n      <td>Affaire personnelle</td>\n      <td>1.0</td>\n      <td>0</td>\n    </tr>\n  </tbody>\n</table>\n<p>108576 rows × 18 columns</p>\n</div>"
     },
     "execution_count": 3,
     "metadata": {},
     "output_type": "execute_result"
    }
   ],
   "source": [
    "df = pd.read_csv('data/base_prospect.csv', encoding='ISO-8859-1')\n",
    "column_names = df.head()\n",
    "df\n"
   ],
   "metadata": {
    "collapsed": false
   }
  },
  {
   "cell_type": "code",
   "execution_count": 32,
   "outputs": [
    {
     "name": "stderr",
     "output_type": "stream",
     "text": [
      "/var/folders/x7/jxq9slps3tx5wj2t065bnl740000gn/T/ipykernel_36726/1413581206.py:3: FutureWarning: The default value of numeric_only in DataFrameGroupBy.sum is deprecated. In a future version, numeric_only will default to False. Either specify numeric_only or select only columns which should be valid for the function.\n",
      "  df.groupby(['code_cr']).sum().plot(kind='bar', y='effectif')\n"
     ]
    },
    {
     "data": {
      "text/plain": "<AxesSubplot: xlabel='code_cr'>"
     },
     "execution_count": 32,
     "metadata": {},
     "output_type": "execute_result"
    },
    {
     "data": {
      "text/plain": "<Figure size 640x480 with 1 Axes>",
      "image/png": "[encoded data removed]"
     },
     "metadata": {},
     "output_type": "display_data"
    }
   ],
   "source": [
    "# Code de la caisse régionale\n",
    "df['code_cr']\n",
    "df.groupby(['code_cr']).sum().plot(kind='bar', y='effectif')\n"
   ],
   "metadata": {
    "collapsed": false
   }
  },
  {
   "cell_type": "code",
   "execution_count": 45,
   "outputs": [
    {
     "data": {
      "text/plain": "<AxesSubplot: ylabel='Frequency'>"
     },
     "execution_count": 45,
     "metadata": {},
     "output_type": "execute_result"
    },
    {
     "data": {
      "text/plain": "<Figure size 640x480 with 1 Axes>",
      "image/png": "[encoded data removed]"
     },
     "metadata": {},
     "output_type": "display_data"
    }
   ],
   "source": [
    "# Numéro de departement\n",
    "dept = df.pivot_table(index = ['dept'], aggfunc =['size'])\n",
    "dept.sort_values(by=['size'], ascending=False)\n",
    "df.plot(kind='hist',y='dept')\n"
   ],
   "metadata": {
    "collapsed": false
   }
  },
  {
   "cell_type": "code",
   "execution_count": 10,
   "outputs": [
    {
     "data": {
      "text/plain": "936"
     },
     "execution_count": 10,
     "metadata": {},
     "output_type": "execute_result"
    }
   ],
   "source": [
    "df['risque'].isnull().values.sum()\n"
   ],
   "metadata": {
    "collapsed": false
   }
  },
  {
   "cell_type": "code",
   "execution_count": 6,
   "outputs": [
    {
     "data": {
      "text/plain": "         size\nrisque       \n1-6      2435\n11-13   25203\n14      50830\n7        2201\n8-10    26971",
      "text/html": "<div>\n<style scoped>\n    .dataframe tbody tr th:only-of-type {\n        vertical-align: middle;\n    }\n\n    .dataframe tbody tr th {\n        vertical-align: top;\n    }\n\n    .dataframe thead th {\n        text-align: right;\n    }\n</style>\n<table border=\"1\" class=\"dataframe\">\n  <thead>\n    <tr style=\"text-align: right;\">\n      <th></th>\n      <th>size</th>\n    </tr>\n    <tr>\n      <th>risque</th>\n      <th></th>\n    </tr>\n  </thead>\n  <tbody>\n    <tr>\n      <th>1-6</th>\n      <td>2435</td>\n    </tr>\n    <tr>\n      <th>11-13</th>\n      <td>25203</td>\n    </tr>\n    <tr>\n      <th>14</th>\n      <td>50830</td>\n    </tr>\n    <tr>\n      <th>7</th>\n      <td>2201</td>\n    </tr>\n    <tr>\n      <th>8-10</th>\n      <td>26971</td>\n    </tr>\n  </tbody>\n</table>\n</div>"
     },
     "execution_count": 6,
     "metadata": {},
     "output_type": "execute_result"
    }
   ],
   "source": [
    "risque = df.pivot_table(index = ['risque'], aggfunc =['size'])\n",
    "risque\n",
    "df.plot(kind='hist',y='risque')"
   ],
   "metadata": {
    "collapsed": false
   }
  },
  {
   "cell_type": "code",
   "execution_count": 8,
   "outputs": [
    {
     "name": "stderr",
     "output_type": "stream",
     "text": [
      "/var/folders/x7/jxq9slps3tx5wj2t065bnl740000gn/T/ipykernel_44424/4216321850.py:2: SettingWithCopyWarning: \n",
      "A value is trying to be set on a copy of a slice from a DataFrame.\n",
      "Try using .loc[row_indexer,col_indexer] = value instead\n",
      "\n",
      "See the caveats in the documentation: https://pandas.pydata.org/pandas-docs/stable/user_guide/indexing.html#returning-a-view-versus-a-copy\n",
      "  risque_1_6['risque'] = 7.5\n"
     ]
    }
   ],
   "source": [
    "risque_1_6 = df.loc[df['risque'] == '1-6']\n",
    "risque_1_6['risque'] = 7.5"
   ],
   "metadata": {
    "collapsed": false
   }
  },
  {
   "cell_type": "code",
   "execution_count": 7,
   "outputs": [
    {
     "ename": "SyntaxError",
     "evalue": "EOL while scanning string literal (3997594996.py, line 1)",
     "output_type": "error",
     "traceback": [
      "\u001B[0;36m  Cell \u001B[0;32mIn[7], line 1\u001B[0;36m\u001B[0m\n\u001B[0;31m    df.loc[df[icscsr'] ==scdscscxsome_value]\u001B[0m\n\u001B[0m                                            ^\u001B[0m\n\u001B[0;31mSyntaxError\u001B[0m\u001B[0;31m:\u001B[0m EOL while scanning string literal\n"
     ]
    }
   ],
   "source": [
    "df.plot(kind='scatter',x='dept',y='age')"
   ],
   "metadata": {
    "collapsed": false
   }
  },
  {
   "cell_type": "code",
   "execution_count": 95,
   "outputs": [
    {
     "name": "stdout",
     "output_type": "stream",
     "text": [
      "Max Effectif :  15783\n",
      "Min Effectif :  3\n",
      "Median Effectif :  21.0\n"
     ]
    }
   ],
   "source": [
    "# Effectif\n",
    "print('Max Effectif : ',df['effectif'].max())\n",
    "print('Min Effectif : ',df['effectif'].min())\n",
    "print('Median Effectif : ',df['effectif'].median())\n"
   ],
   "metadata": {
    "collapsed": false
   }
  },
  {
   "cell_type": "code",
   "execution_count": 98,
   "outputs": [
    {
     "name": "stdout",
     "output_type": "stream",
     "text": [
      "Max CA :  5071221\n",
      "Min CA :  -162\n",
      "Median CA :  2383.0\n"
     ]
    }
   ],
   "source": [
    "# CA\n",
    "print('Max CA : ',df['ca_total_FL'].max())\n",
    "print('Min CA : ',df['ca_total_FL'].min())\n",
    "print('Median CA : ',df['ca_total_FL'].median())"
   ],
   "metadata": {
    "collapsed": false
   }
  },
  {
   "cell_type": "code",
   "execution_count": 102,
   "outputs": [
    {
     "name": "stdout",
     "output_type": "stream",
     "text": [
      "Max Evol benef :  3334.31814301801\n",
      "Min Evol benef :  -1763.73619617987\n",
      "Median Evol Benef :  0.16278022257741498\n"
     ]
    }
   ],
   "source": [
    "# Evol benef\n",
    "print('Max Evol benef : ',df['evo_benefice'].max())\n",
    "print('Min Evol benef : ',df['evo_benefice'].min())\n",
    "print('Median Evol Benef : ',df['evo_benefice'].median())"
   ],
   "metadata": {
    "collapsed": false
   }
  },
  {
   "cell_type": "code",
   "execution_count": 103,
   "outputs": [
    {
     "name": "stdout",
     "output_type": "stream",
     "text": [
      "Max ratio benef :  68999.575515223\n",
      "Min ration benef:  -13015.0523794849\n",
      "Median ratio benef:  3.11367562731436\n"
     ]
    }
   ],
   "source": [
    "# Ratio benef\n",
    "print('Max ratio benef : ',df['ratio_benef'].max())\n",
    "print('Min ration benef: ',df['ratio_benef'].min())\n",
    "print('Median ratio benef: ',df['ratio_benef'].median())"
   ],
   "metadata": {
    "collapsed": false
   }
  }
 ],
 "metadata": {
  "kernelspec": {
   "display_name": "Python 3",
   "language": "python",
   "name": "python3"
  },
  "language_info": {
   "codemirror_mode": {
    "name": "ipython",
    "version": 2
   },
   "file_extension": ".py",
   "mimetype": "text/x-python",
   "name": "python",
   "nbconvert_exporter": "python",
   "pygments_lexer": "ipython2",
   "version": "2.7.6"
  }
 },
 "nbformat": 4,
 "nbformat_minor": 0
}
